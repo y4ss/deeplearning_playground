{
  "metadata": {
    "kernelspec": {
      "language": "python",
      "display_name": "Python 3",
      "name": "python3"
    },
    "language_info": {
      "name": "python",
      "version": "3.10.13",
      "mimetype": "text/x-python",
      "codemirror_mode": {
        "name": "ipython",
        "version": 3
      },
      "pygments_lexer": "ipython3",
      "nbconvert_exporter": "python",
      "file_extension": ".py"
    },
    "kaggle": {
      "accelerator": "none",
      "dataSources": [
        {
          "sourceId": 17777,
          "databundleVersionId": 869809,
          "sourceType": "competition"
        }
      ],
      "dockerImageVersionId": 30673,
      "isInternetEnabled": false,
      "language": "python",
      "sourceType": "notebook",
      "isGpuEnabled": false
    },
    "colab": {
      "name": "NLP 1",
      "provenance": []
    }
  },
  "nbformat_minor": 0,
  "nbformat": 4,
  "cells": [
    {
      "source": [
        "\n",
        "# IMPORTANT: RUN THIS CELL IN ORDER TO IMPORT YOUR KAGGLE DATA SOURCES\n",
        "# TO THE CORRECT LOCATION (/kaggle/input) IN YOUR NOTEBOOK,\n",
        "# THEN FEEL FREE TO DELETE THIS CELL.\n",
        "# NOTE: THIS NOTEBOOK ENVIRONMENT DIFFERS FROM KAGGLE'S PYTHON\n",
        "# ENVIRONMENT SO THERE MAY BE MISSING LIBRARIES USED BY YOUR\n",
        "# NOTEBOOK.\n",
        "\n",
        "import os\n",
        "import sys\n",
        "from tempfile import NamedTemporaryFile\n",
        "from urllib.request import urlopen\n",
        "from urllib.parse import unquote, urlparse\n",
        "from urllib.error import HTTPError\n",
        "from zipfile import ZipFile\n",
        "import tarfile\n",
        "import shutil\n",
        "\n",
        "CHUNK_SIZE = 40960\n",
        "DATA_SOURCE_MAPPING = 'nlp-getting-started:https%3A%2F%2Fstorage.googleapis.com%2Fkaggle-competitions-data%2Fkaggle-v2%2F17777%2F869809%2Fbundle%2Farchive.zip%3FX-Goog-Algorithm%3DGOOG4-RSA-SHA256%26X-Goog-Credential%3Dgcp-kaggle-com%2540kaggle-161607.iam.gserviceaccount.com%252F20240327%252Fauto%252Fstorage%252Fgoog4_request%26X-Goog-Date%3D20240327T215850Z%26X-Goog-Expires%3D259200%26X-Goog-SignedHeaders%3Dhost%26X-Goog-Signature%3D4a38ff5ee8c129d50bcf7688e9df9ed867df9013fd8a2b30a737746719f8611daf7a8b763bb7d4fb6f7409e679ff7fc9abf8343b9795ba5041c5f7aa36c2b29ecf37c746fab632b07553784b2967a88b12d1d95ebc9075833647e58970ff2088f0f6baf4294ffac741151cdd4ac9f2c80a072b16fbb8cab53b126f03728e1200c7a679b35b33efb72a4af03b5a245f6e1b115588a54e3035df6119a1078b56067093598e800a36ec44bbe0c9269f1a85f0c3cec36b2c43d3b28e089d8a1329583078e5398cbaa889aef1ebd74a97797d2bcc401726ec76bb889f1768ee7c73bfddc71a9b0f3743102debda8e3b2979e88ed06406d4aa43cce48f997e863eff7b'\n",
        "\n",
        "KAGGLE_INPUT_PATH='/kaggle/input'\n",
        "KAGGLE_WORKING_PATH='/kaggle/working'\n",
        "KAGGLE_SYMLINK='kaggle'\n",
        "\n",
        "!umount /kaggle/input/ 2> /dev/null\n",
        "shutil.rmtree('/kaggle/input', ignore_errors=True)\n",
        "os.makedirs(KAGGLE_INPUT_PATH, 0o777, exist_ok=True)\n",
        "os.makedirs(KAGGLE_WORKING_PATH, 0o777, exist_ok=True)\n",
        "\n",
        "try:\n",
        "  os.symlink(KAGGLE_INPUT_PATH, os.path.join(\"..\", 'input'), target_is_directory=True)\n",
        "except FileExistsError:\n",
        "  pass\n",
        "try:\n",
        "  os.symlink(KAGGLE_WORKING_PATH, os.path.join(\"..\", 'working'), target_is_directory=True)\n",
        "except FileExistsError:\n",
        "  pass\n",
        "\n",
        "for data_source_mapping in DATA_SOURCE_MAPPING.split(','):\n",
        "    directory, download_url_encoded = data_source_mapping.split(':')\n",
        "    download_url = unquote(download_url_encoded)\n",
        "    filename = urlparse(download_url).path\n",
        "    destination_path = os.path.join(KAGGLE_INPUT_PATH, directory)\n",
        "    try:\n",
        "        with urlopen(download_url) as fileres, NamedTemporaryFile() as tfile:\n",
        "            total_length = fileres.headers['content-length']\n",
        "            print(f'Downloading {directory}, {total_length} bytes compressed')\n",
        "            dl = 0\n",
        "            data = fileres.read(CHUNK_SIZE)\n",
        "            while len(data) > 0:\n",
        "                dl += len(data)\n",
        "                tfile.write(data)\n",
        "                done = int(50 * dl / int(total_length))\n",
        "                sys.stdout.write(f\"\\r[{'=' * done}{' ' * (50-done)}] {dl} bytes downloaded\")\n",
        "                sys.stdout.flush()\n",
        "                data = fileres.read(CHUNK_SIZE)\n",
        "            if filename.endswith('.zip'):\n",
        "              with ZipFile(tfile) as zfile:\n",
        "                zfile.extractall(destination_path)\n",
        "            else:\n",
        "              with tarfile.open(tfile.name) as tarfile:\n",
        "                tarfile.extractall(destination_path)\n",
        "            print(f'\\nDownloaded and uncompressed: {directory}')\n",
        "    except HTTPError as e:\n",
        "        print(f'Failed to load (likely expired) {download_url} to path {destination_path}')\n",
        "        continue\n",
        "    except OSError as e:\n",
        "        print(f'Failed to load {download_url} to path {destination_path}')\n",
        "        continue\n",
        "\n",
        "print('Data source import complete.')\n"
      ],
      "metadata": {
        "id": "QvHctdOs7FZm",
        "outputId": "083c90d3-929e-482d-84d8-7901f334b311",
        "colab": {
          "base_uri": "https://localhost:8080/"
        }
      },
      "cell_type": "code",
      "outputs": [
        {
          "output_type": "stream",
          "name": "stdout",
          "text": [
            "Downloading nlp-getting-started, 607343 bytes compressed\n",
            "[==================================================] 607343 bytes downloaded\n",
            "Downloaded and uncompressed: nlp-getting-started\n",
            "Data source import complete.\n"
          ]
        }
      ],
      "execution_count": 1
    },
    {
      "cell_type": "code",
      "source": [
        "# This Python 3 environment comes with many helpful analytics libraries installed\n",
        "# It is defined by the kaggle/python Docker image: https://github.com/kaggle/docker-python\n",
        "# For example, here's several helpful packages to load\n",
        "\n",
        "import numpy as np # linear algebra\n",
        "import pandas as pd # data processing, CSV file I/O (e.g. pd.read_csv)\n",
        "\n",
        "# Input data files are available in the read-only \"../input/\" directory\n",
        "# For example, running this (by clicking run or pressing Shift+Enter) will list all files under the input directory\n",
        "\n",
        "import os\n",
        "for dirname, _, filenames in os.walk('/kaggle/input'):\n",
        "    for filename in filenames:\n",
        "        print(os.path.join(dirname, filename))\n",
        "\n",
        "# You can write up to 20GB to the current directory (/kaggle/working/) that gets preserved as output when you create a version using \"Save & Run All\"\n",
        "# You can also write temporary files to /kaggle/temp/, but they won't be saved outside of the current session"
      ],
      "metadata": {
        "_uuid": "8f2839f25d086af736a60e9eeb907d3b93b6e0e5",
        "_cell_guid": "b1076dfc-b9ad-4769-8c92-a6c4dae69d19",
        "execution": {
          "iopub.status.busy": "2024-03-27T13:42:57.676339Z",
          "iopub.execute_input": "2024-03-27T13:42:57.677265Z",
          "iopub.status.idle": "2024-03-27T13:42:58.709344Z",
          "shell.execute_reply.started": "2024-03-27T13:42:57.677231Z",
          "shell.execute_reply": "2024-03-27T13:42:58.708191Z"
        },
        "trusted": true,
        "id": "1itV0WPX7FZo",
        "outputId": "8e2405cf-2337-41b5-b855-6fd8a27133f2",
        "colab": {
          "base_uri": "https://localhost:8080/"
        }
      },
      "execution_count": 2,
      "outputs": [
        {
          "output_type": "stream",
          "name": "stdout",
          "text": [
            "/kaggle/input/nlp-getting-started/sample_submission.csv\n",
            "/kaggle/input/nlp-getting-started/test.csv\n",
            "/kaggle/input/nlp-getting-started/train.csv\n"
          ]
        }
      ]
    },
    {
      "cell_type": "code",
      "source": [
        "import numpy as np # linear algebra\n",
        "import pandas as pd # data processing, CSV file I/O (e.g. pd.read_csv)"
      ],
      "metadata": {
        "execution": {
          "iopub.status.busy": "2024-03-27T17:05:21.529481Z",
          "iopub.execute_input": "2024-03-27T17:05:21.529954Z",
          "iopub.status.idle": "2024-03-27T17:05:21.535383Z",
          "shell.execute_reply.started": "2024-03-27T17:05:21.529922Z",
          "shell.execute_reply": "2024-03-27T17:05:21.534084Z"
        },
        "trusted": true,
        "id": "B6tMH1Ds7FZo"
      },
      "execution_count": 44,
      "outputs": []
    },
    {
      "cell_type": "code",
      "source": [],
      "metadata": {
        "id": "c8XxL8Ug7FZp"
      },
      "execution_count": null,
      "outputs": []
    },
    {
      "cell_type": "code",
      "source": [
        "df_train = pd.read_csv(\"/kaggle/input/nlp-getting-started/train.csv\")\n",
        "\n",
        "df_test_sample = pd.read_csv(\"/kaggle/input/nlp-getting-started/test.csv\")\n",
        "\n",
        "print(df_train.shape)\n",
        "df_train.drop_duplicates(subset=['text'], inplace=True)\n",
        "print(df_train.shape)\n",
        "\n",
        "from sklearn.model_selection import train_test_split\n",
        "import pandas as pd\n",
        "\n",
        "# Assuming df is your DataFrame and it includes a 'target' column for labels\n",
        "\n",
        "# Features and target variable\n",
        "X = df_train.drop('target', axis=1)  # Features (all columns except 'target')\n",
        "y = df_train['target']  # Target variable\n",
        "\n",
        "# Splitting the data into training and test sets\n",
        "# test_size specifies the proportion of the test set (e.g., 0.2 for 20%)\n",
        "# random_state is a seed for reproducibility\n",
        "df_train, df_test, y_train, y_test = train_test_split(X, y, test_size=0.2, random_state=42)\n",
        "\n"
      ],
      "metadata": {
        "execution": {
          "iopub.status.busy": "2024-03-27T21:48:45.68191Z",
          "iopub.execute_input": "2024-03-27T21:48:45.682676Z",
          "iopub.status.idle": "2024-03-27T21:48:47.430075Z",
          "shell.execute_reply.started": "2024-03-27T21:48:45.682637Z",
          "shell.execute_reply": "2024-03-27T21:48:47.428823Z"
        },
        "trusted": true,
        "id": "6c9RPyOF7FZp",
        "outputId": "f099e698-1024-4f53-ae3a-b62309a524fd",
        "colab": {
          "base_uri": "https://localhost:8080/"
        }
      },
      "execution_count": 45,
      "outputs": [
        {
          "output_type": "stream",
          "name": "stdout",
          "text": [
            "(7613, 5)\n",
            "(7503, 5)\n"
          ]
        }
      ]
    },
    {
      "cell_type": "code",
      "source": [],
      "metadata": {
        "id": "zg5sjE7f7FZp"
      },
      "execution_count": null,
      "outputs": []
    },
    {
      "cell_type": "code",
      "source": [
        "print(df_train.head())\n",
        "print(df_train.shape)\n",
        "print(df_train.info())"
      ],
      "metadata": {
        "execution": {
          "iopub.status.busy": "2024-03-27T21:48:51.044896Z",
          "iopub.execute_input": "2024-03-27T21:48:51.045788Z",
          "iopub.status.idle": "2024-03-27T21:48:51.081066Z",
          "shell.execute_reply.started": "2024-03-27T21:48:51.045746Z",
          "shell.execute_reply": "2024-03-27T21:48:51.079446Z"
        },
        "trusted": true,
        "id": "Pwd8_dhP7FZp",
        "outputId": "d49c0f91-485c-4c01-88e1-3b3740242ae4",
        "colab": {
          "base_uri": "https://localhost:8080/"
        }
      },
      "execution_count": 46,
      "outputs": [
        {
          "output_type": "stream",
          "name": "stdout",
          "text": [
            "        id     keyword                        location  \\\n",
            "5002  7135    military                             NaN   \n",
            "4671  6638  inundation                  Athens, Greece   \n",
            "3701  5265        fear  sitting on the fence, New York   \n",
            "2984  4288    drowning                             NaN   \n",
            "2540  3645  desolation                         Romania   \n",
            "\n",
            "                                                   text  \n",
            "5002  @UniversityofLaw For the people who died in Hu...  \n",
            "4671  Potential Storm Surge Flooding Map by National...  \n",
            "3701  @phnotf sometimes your cheekiness bleeds throu...  \n",
            "2984  can still see it...blank expression...cheeks c...  \n",
            "2540  Imagini noi si 2 clipuri The Hobbit: The Desol...  \n",
            "(6002, 4)\n",
            "<class 'pandas.core.frame.DataFrame'>\n",
            "Int64Index: 6002 entries, 5002 to 7373\n",
            "Data columns (total 4 columns):\n",
            " #   Column    Non-Null Count  Dtype \n",
            "---  ------    --------------  ----- \n",
            " 0   id        6002 non-null   int64 \n",
            " 1   keyword   5960 non-null   object\n",
            " 2   location  4037 non-null   object\n",
            " 3   text      6002 non-null   object\n",
            "dtypes: int64(1), object(3)\n",
            "memory usage: 234.5+ KB\n",
            "None\n"
          ]
        }
      ]
    },
    {
      "cell_type": "code",
      "source": [
        "print(df_train.keyword.value_counts())\n",
        "print(df_train.location.value_counts())\n",
        "print(y_train.value_counts())"
      ],
      "metadata": {
        "execution": {
          "iopub.status.busy": "2024-03-27T21:48:53.228849Z",
          "iopub.execute_input": "2024-03-27T21:48:53.229508Z",
          "iopub.status.idle": "2024-03-27T21:48:53.244772Z",
          "shell.execute_reply.started": "2024-03-27T21:48:53.22947Z",
          "shell.execute_reply": "2024-03-27T21:48:53.243869Z"
        },
        "trusted": true,
        "id": "c4EwGJLR7FZp",
        "outputId": "b7c3a89d-bba7-4765-c73e-efeb7734460a",
        "colab": {
          "base_uri": "https://localhost:8080/"
        }
      },
      "execution_count": 47,
      "outputs": [
        {
          "output_type": "stream",
          "name": "stdout",
          "text": [
            "fatalities               42\n",
            "damage                   38\n",
            "blaze                    37\n",
            "siren                    36\n",
            "pandemonium              35\n",
            "                         ..\n",
            "forest%20fire            16\n",
            "epicentre                12\n",
            "inundation                9\n",
            "threat                    7\n",
            "radiation%20emergency     6\n",
            "Name: keyword, Length: 221, dtype: int64\n",
            "USA                             85\n",
            "New York                        59\n",
            "United States                   42\n",
            "London                          33\n",
            "Los Angeles, CA                 24\n",
            "                                ..\n",
            "Nicola Valley                    1\n",
            "#goingdownthetoilet Illinois     1\n",
            "The Windy City                   1\n",
            "Prehistoric Earth                1\n",
            "Bangalore, INDIA                 1\n",
            "Name: location, Length: 2743, dtype: int64\n",
            "0    3431\n",
            "1    2571\n",
            "Name: target, dtype: int64\n"
          ]
        }
      ]
    },
    {
      "cell_type": "code",
      "source": [
        "df_train.duplicated(subset=['text']).sum()"
      ],
      "metadata": {
        "execution": {
          "iopub.status.busy": "2024-03-27T17:05:40.164311Z",
          "iopub.execute_input": "2024-03-27T17:05:40.165052Z",
          "iopub.status.idle": "2024-03-27T17:05:40.173972Z",
          "shell.execute_reply.started": "2024-03-27T17:05:40.165009Z",
          "shell.execute_reply": "2024-03-27T17:05:40.172712Z"
        },
        "trusted": true,
        "id": "lTz8achF7FZp",
        "outputId": "a5d09173-17e6-4077-94c1-b688dcbf8199",
        "colab": {
          "base_uri": "https://localhost:8080/"
        }
      },
      "execution_count": 48,
      "outputs": [
        {
          "output_type": "execute_result",
          "data": {
            "text/plain": [
              "0"
            ]
          },
          "metadata": {},
          "execution_count": 48
        }
      ]
    },
    {
      "cell_type": "code",
      "source": [],
      "metadata": {
        "execution": {
          "iopub.status.busy": "2024-03-27T16:55:31.774841Z",
          "iopub.execute_input": "2024-03-27T16:55:31.775255Z",
          "iopub.status.idle": "2024-03-27T16:55:31.784696Z",
          "shell.execute_reply.started": "2024-03-27T16:55:31.775216Z",
          "shell.execute_reply": "2024-03-27T16:55:31.783395Z"
        },
        "trusted": true,
        "id": "bh1yl72s7FZp",
        "outputId": "ed7d6779-49c0-4af8-c863-fbcc42ed5ec2"
      },
      "execution_count": null,
      "outputs": [
        {
          "name": "stdout",
          "text": "(6090, 4)\n(6022, 4)\n",
          "output_type": "stream"
        }
      ]
    },
    {
      "cell_type": "code",
      "source": [
        "\n",
        "import re\n",
        "import nltk\n",
        "from nltk.corpus import stopwords\n",
        "from nltk.tokenize import word_tokenize\n",
        "from nltk.stem import WordNetLemmatizer"
      ],
      "metadata": {
        "execution": {
          "iopub.status.busy": "2024-03-27T21:48:56.226544Z",
          "iopub.execute_input": "2024-03-27T21:48:56.227171Z",
          "iopub.status.idle": "2024-03-27T21:48:56.974104Z",
          "shell.execute_reply.started": "2024-03-27T21:48:56.227136Z",
          "shell.execute_reply": "2024-03-27T21:48:56.972489Z"
        },
        "trusted": true,
        "id": "aCrQOlfs7FZq"
      },
      "execution_count": 49,
      "outputs": []
    },
    {
      "cell_type": "code",
      "source": [
        "lemmatizer = WordNetLemmatizer()\n",
        "\n",
        "def preprocess_tweet(text):\n",
        "    # Convert to lowercase\n",
        "    text = text.lower()\n",
        "\n",
        "    # Remove URLs\n",
        "    text = re.sub(r'http[s]?://(?:[a-zA-Z]|[0-9]|[$-_@.&+]|[!*\\\\(\\\\),]|(?:%[0-9a-fA-F][0-9a-fA-F]))+', '', text)\n",
        "\n",
        "    # Remove usernames (mentions)\n",
        "    text = re.sub(r'@\\w+', '', text)\n",
        "\n",
        "    # Remove symbols and special characters (except for spaces)\n",
        "    text = re.sub(r'[^\\w\\s]', '', text)\n",
        "\n",
        "    return text\n",
        "\n",
        "df_train['text'] = df_train['text'].apply(preprocess_tweet)\n",
        "df_test['text'] = df_test['text'].apply(preprocess_tweet)"
      ],
      "metadata": {
        "execution": {
          "iopub.status.busy": "2024-03-27T21:48:57.776924Z",
          "iopub.execute_input": "2024-03-27T21:48:57.77748Z",
          "iopub.status.idle": "2024-03-27T21:48:57.882012Z",
          "shell.execute_reply.started": "2024-03-27T21:48:57.77744Z",
          "shell.execute_reply": "2024-03-27T21:48:57.880585Z"
        },
        "trusted": true,
        "id": "72r0I98b7FZq"
      },
      "execution_count": 50,
      "outputs": []
    },
    {
      "cell_type": "code",
      "source": [
        "df_train['text'][12]"
      ],
      "metadata": {
        "execution": {
          "iopub.status.busy": "2024-03-27T17:05:46.365142Z",
          "iopub.execute_input": "2024-03-27T17:05:46.365625Z",
          "iopub.status.idle": "2024-03-27T17:05:46.372316Z",
          "shell.execute_reply.started": "2024-03-27T17:05:46.365579Z",
          "shell.execute_reply": "2024-03-27T17:05:46.371496Z"
        },
        "trusted": true,
        "id": "cmeuq7i67FZq",
        "outputId": "387990e5-0e62-42c3-a4be-879e52781374",
        "colab": {
          "base_uri": "https://localhost:8080/",
          "height": 35
        }
      },
      "execution_count": 51,
      "outputs": [
        {
          "output_type": "execute_result",
          "data": {
            "text/plain": [
              "'raining flooding florida tampabay tampa 18 or 19 days ive lost count '"
            ],
            "application/vnd.google.colaboratory.intrinsic+json": {
              "type": "string"
            }
          },
          "metadata": {},
          "execution_count": 51
        }
      ]
    },
    {
      "cell_type": "code",
      "source": [
        "import numpy as np\n",
        "from sklearn.feature_extraction.text import TfidfVectorizer\n",
        "from sklearn.model_selection import train_test_split\n",
        "from collections import defaultdict"
      ],
      "metadata": {
        "execution": {
          "iopub.status.busy": "2024-03-27T21:48:59.953664Z",
          "iopub.execute_input": "2024-03-27T21:48:59.95408Z",
          "iopub.status.idle": "2024-03-27T21:48:59.960259Z",
          "shell.execute_reply.started": "2024-03-27T21:48:59.95405Z",
          "shell.execute_reply": "2024-03-27T21:48:59.958787Z"
        },
        "trusted": true,
        "id": "hXWW4F4H7FZq"
      },
      "execution_count": 52,
      "outputs": []
    },
    {
      "cell_type": "code",
      "source": [
        "vectorizer = TfidfVectorizer()\n",
        "X_vec = vectorizer.fit_transform(df_train.text)"
      ],
      "metadata": {
        "execution": {
          "iopub.status.busy": "2024-03-27T21:49:01.278618Z",
          "iopub.execute_input": "2024-03-27T21:49:01.279096Z",
          "iopub.status.idle": "2024-03-27T21:49:01.493323Z",
          "shell.execute_reply.started": "2024-03-27T21:49:01.279062Z",
          "shell.execute_reply": "2024-03-27T21:49:01.491928Z"
        },
        "trusted": true,
        "id": "L-19LqT57FZq"
      },
      "execution_count": 53,
      "outputs": []
    },
    {
      "cell_type": "code",
      "source": [
        "print(X_vec.shape)  # Should show (number_of_samples, number_of_features)\n",
        "print(len(y_train))"
      ],
      "metadata": {
        "execution": {
          "iopub.status.busy": "2024-03-27T21:49:02.614196Z",
          "iopub.execute_input": "2024-03-27T21:49:02.61566Z",
          "iopub.status.idle": "2024-03-27T21:49:02.622625Z",
          "shell.execute_reply.started": "2024-03-27T21:49:02.615599Z",
          "shell.execute_reply": "2024-03-27T21:49:02.621622Z"
        },
        "trusted": true,
        "id": "8o9jL1MT7FZq",
        "outputId": "46d0309f-6ea0-4b92-a045-885044f45f38",
        "colab": {
          "base_uri": "https://localhost:8080/"
        }
      },
      "execution_count": 54,
      "outputs": [
        {
          "output_type": "stream",
          "name": "stdout",
          "text": [
            "(6002, 13801)\n",
            "6002\n"
          ]
        }
      ]
    },
    {
      "cell_type": "code",
      "source": [
        "\n",
        "def top_n_words_per_label(X_vectorized, labels, vectorizer, n=5):\n",
        "    features = np.array(vectorizer.get_feature_names_out())\n",
        "    unique_labels = np.unique(labels)\n",
        "    top_words = defaultdict(list)\n",
        "\n",
        "    for label in unique_labels:\n",
        "        # Select the rows where the labels match the current label\n",
        "        idx = labels == label\n",
        "        X_sub = X_vectorized[idx]\n",
        "\n",
        "        # Calculate the mean TF-IDF score for each feature/word\n",
        "        mean_scores = np.mean(X_sub, axis=0)\n",
        "\n",
        "        # Ensure we're working with a dense array for mean score manipulation\n",
        "        mean_scores_array = np.array(mean_scores).flatten()\n",
        "\n",
        "        # Identify top n indices of words for the current label\n",
        "        top_n_indices = mean_scores_array.argsort()[-n:]\n",
        "\n",
        "        # Map indices to actual words\n",
        "        top_words[label] = features[top_n_indices]\n",
        "\n",
        "    return top_words\n",
        "# Example usage\n",
        "top_words = top_n_words_per_label(X_vec, y_train, vectorizer, n=50)\n",
        "print(top_words)"
      ],
      "metadata": {
        "execution": {
          "iopub.status.busy": "2024-03-27T21:49:04.327076Z",
          "iopub.execute_input": "2024-03-27T21:49:04.327891Z",
          "iopub.status.idle": "2024-03-27T21:49:04.359006Z",
          "shell.execute_reply.started": "2024-03-27T21:49:04.32785Z",
          "shell.execute_reply": "2024-03-27T21:49:04.357484Z"
        },
        "trusted": true,
        "id": "VA2mkdFk7FZq",
        "outputId": "2e603bea-907d-4679-e38d-64e9a09e3e31",
        "colab": {
          "base_uri": "https://localhost:8080/"
        }
      },
      "execution_count": 55,
      "outputs": [
        {
          "output_type": "stream",
          "name": "stdout",
          "text": [
            "defaultdict(<class 'list'>, {0: array(['how', 'no', 'dont', 'do', 'from', 'as', 'when', 'one', 'we',\n",
            "       'has', 'or', 'now', 'he', 'amp', 'up', 'at', 'its', 'get', 'new',\n",
            "       'not', 'if', 'will', 'but', 'out', 'all', 'by', 'was', 'your',\n",
            "       'are', 'have', 'so', 'just', 'like', 'be', 'me', 'this', 'im',\n",
            "       'with', 'that', 'on', 'it', 'for', 'is', 'in', 'my', 'of', 'and',\n",
            "       'you', 'to', 'the'], dtype=object), 1: array(['bombing', 'than', 'homes', 'nuclear', 'like', 'families', 'no',\n",
            "       'an', 'be', 'wildfire', 'crash', 'people', 'my', 'killed', 'storm',\n",
            "       'police', 'mh370', 'fires', 'who', 'over', 'hiroshima', 'have',\n",
            "       'up', 'it', 'were', 'disaster', 'via', 'more', 'suicide', 'that',\n",
            "       'with', 'was', 'california', 'are', 'news', 'this', 'after', 'as',\n",
            "       'fire', 'is', 'at', 'from', 'by', 'for', 'on', 'and', 'to', 'of',\n",
            "       'the', 'in'], dtype=object)})\n"
          ]
        }
      ]
    },
    {
      "cell_type": "code",
      "source": [
        "print([x for x in top_words[0] if x in top_words[1]])\n",
        "print([x for x in top_words[1] if x in top_words[0]])"
      ],
      "metadata": {
        "execution": {
          "iopub.status.busy": "2024-03-27T21:49:06.543747Z",
          "iopub.execute_input": "2024-03-27T21:49:06.54458Z",
          "iopub.status.idle": "2024-03-27T21:49:06.554243Z",
          "shell.execute_reply.started": "2024-03-27T21:49:06.544528Z",
          "shell.execute_reply": "2024-03-27T21:49:06.552836Z"
        },
        "trusted": true,
        "id": "oFSeAwod7FZr",
        "outputId": "27e6d137-16dc-4fb1-8095-59fdc64da77f",
        "colab": {
          "base_uri": "https://localhost:8080/"
        }
      },
      "execution_count": 56,
      "outputs": [
        {
          "output_type": "stream",
          "name": "stdout",
          "text": [
            "['no', 'from', 'as', 'up', 'at', 'by', 'was', 'are', 'have', 'like', 'be', 'this', 'with', 'that', 'on', 'it', 'for', 'is', 'in', 'my', 'of', 'and', 'to', 'the']\n",
            "['like', 'no', 'be', 'my', 'have', 'up', 'it', 'that', 'with', 'was', 'are', 'this', 'as', 'is', 'at', 'from', 'by', 'for', 'on', 'and', 'to', 'of', 'the', 'in']\n"
          ]
        }
      ]
    },
    {
      "cell_type": "code",
      "source": [
        "most_common_words = list(set([x for x in top_words[0] if x in top_words[1]] + [x for x in top_words[1] if x in top_words[0]]))\n",
        "print(most_common_words)"
      ],
      "metadata": {
        "execution": {
          "iopub.status.busy": "2024-03-27T21:49:07.816785Z",
          "iopub.execute_input": "2024-03-27T21:49:07.817316Z",
          "iopub.status.idle": "2024-03-27T21:49:07.827369Z",
          "shell.execute_reply.started": "2024-03-27T21:49:07.817274Z",
          "shell.execute_reply": "2024-03-27T21:49:07.825869Z"
        },
        "trusted": true,
        "id": "l07iKs9i7FZr",
        "outputId": "1d0e72eb-985a-4139-f455-6514570aab3a",
        "colab": {
          "base_uri": "https://localhost:8080/"
        }
      },
      "execution_count": 57,
      "outputs": [
        {
          "output_type": "stream",
          "name": "stdout",
          "text": [
            "['to', 'it', 'no', 'of', 'on', 'is', 'up', 'as', 'are', 'the', 'for', 'my', 'have', 'from', 'that', 'by', 'be', 'was', 'like', 'at', 'in', 'and', 'with', 'this']\n"
          ]
        }
      ]
    },
    {
      "cell_type": "code",
      "source": [
        "def remove_common_words(text):\n",
        "\n",
        "    common_words = ['be', 'for', 'when', 'this', 'by', 'is', 'from', 'with', 'have', 'that', 'and', 'to', 'up', 'in', 'it', 'at', 'as', 'no', 'you', 'my', 'of', 'was', 'are', 'the', 'on']\n",
        "\n",
        "    # Tokenize the text into words\n",
        "    words = text.split()\n",
        "\n",
        "    # Remove common words\n",
        "    words = [word for word in words if word not in common_words]\n",
        "\n",
        "    # Rejoin words to form the cleaned text\n",
        "    text = ' '.join(words)\n",
        "\n",
        "    return text\n",
        "\n",
        "\n",
        "df_train['text'] = df_train['text'].apply(remove_common_words)\n",
        "df_test['text'] = df_test['text'].apply(remove_common_words)\n",
        "\n",
        "df_train['text'][1]"
      ],
      "metadata": {
        "execution": {
          "iopub.status.busy": "2024-03-27T21:49:09.766023Z",
          "iopub.execute_input": "2024-03-27T21:49:09.766475Z",
          "iopub.status.idle": "2024-03-27T21:49:09.850101Z",
          "shell.execute_reply.started": "2024-03-27T21:49:09.76643Z",
          "shell.execute_reply": "2024-03-27T21:49:09.848709Z"
        },
        "trusted": true,
        "id": "3uyb2P207FZr",
        "outputId": "1719eaee-6781-41d3-b019-f56aa81ecd5d",
        "colab": {
          "base_uri": "https://localhost:8080/",
          "height": 35
        }
      },
      "execution_count": 58,
      "outputs": [
        {
          "output_type": "execute_result",
          "data": {
            "text/plain": [
              "'forest fire near la ronge sask canada'"
            ],
            "application/vnd.google.colaboratory.intrinsic+json": {
              "type": "string"
            }
          },
          "metadata": {},
          "execution_count": 58
        }
      ]
    },
    {
      "cell_type": "code",
      "source": [
        "def top_n_words_per_label(X, labels, vectorizer, n=5):\n",
        "    features = np.array(vectorizer.get_feature_names_out())\n",
        "    unique_labels = np.unique(labels)\n",
        "    top_words_scores = defaultdict(list)\n",
        "\n",
        "    for label in unique_labels:\n",
        "        idx = labels == label\n",
        "        X_sub = X[idx]\n",
        "\n",
        "        # Calculate the mean TF-IDF score for each feature/word\n",
        "        mean_scores = np.mean(X_sub, axis=0)\n",
        "\n",
        "        # Convert the mean scores to a dense array and flatten it for easier manipulation\n",
        "        mean_scores_array = np.array(mean_scores).flatten()\n",
        "\n",
        "        # Get the indices that would sort the array, then take the last n indices for the top n scores\n",
        "        top_n_indices = mean_scores_array.argsort()[-n:]\n",
        "\n",
        "        # Extract the corresponding top n scores\n",
        "        top_n_scores = mean_scores_array[top_n_indices]\n",
        "\n",
        "        # Map the top n indices to their respective words and scores\n",
        "        for i in range(n):\n",
        "            index = top_n_indices[i]\n",
        "            word = features[index]\n",
        "            score = top_n_scores[i]\n",
        "            top_words_scores[label].append((word, score))\n",
        "\n",
        "    return top_words_scores\n",
        "\n",
        "\n",
        "\n",
        "vectorizer = TfidfVectorizer()\n",
        "X = vectorizer.fit_transform(df_train.text)\n",
        "X_test = vectorizer.transform(df_test.text)\n",
        "top_words = top_n_words_per_label(X, y_train, vectorizer, n=50)\n",
        "print(top_words)"
      ],
      "metadata": {
        "execution": {
          "iopub.status.busy": "2024-03-27T21:49:12.270009Z",
          "iopub.execute_input": "2024-03-27T21:49:12.270717Z",
          "iopub.status.idle": "2024-03-27T21:49:12.48816Z",
          "shell.execute_reply.started": "2024-03-27T21:49:12.270679Z",
          "shell.execute_reply": "2024-03-27T21:49:12.486548Z"
        },
        "trusted": true,
        "id": "h3NBDk677FZr",
        "outputId": "984c63ce-1009-4aac-8458-628ea5912e3c",
        "colab": {
          "base_uri": "https://localhost:8080/"
        }
      },
      "execution_count": 59,
      "outputs": [
        {
          "output_type": "stream",
          "name": "stdout",
          "text": [
            "defaultdict(<class 'list'>, {0: [('more', 0.0042191023057576525), ('back', 0.004339504192782043), ('time', 0.004359146587060938), ('still', 0.0043738412955925945), ('got', 0.004420813580555529), ('day', 0.004461389196170229), ('know', 0.004529266940062425), ('them', 0.004579403439348167), ('his', 0.004654721651815221), ('video', 0.004740840470364142), ('cant', 0.004790521638633135), ('there', 0.004860662363123401), ('via', 0.004891815939565684), ('been', 0.004937940260104611), ('would', 0.005039502132726716), ('her', 0.005061083351697154), ('see', 0.005167355601925135), ('why', 0.005208218279769856), ('can', 0.005844697463894988), ('body', 0.005851474228238766), ('an', 0.00595608017329079), ('they', 0.006253360384977475), ('love', 0.006448445781509757), ('about', 0.0065136666135642), ('what', 0.006569651845918551), ('how', 0.006645013143886788), ('dont', 0.006874459305370781), ('do', 0.006912284208237413), ('has', 0.006923155969771607), ('one', 0.0069912248309286825), ('we', 0.0069928430699851074), ('or', 0.007175088156727267), ('now', 0.00745841777357098), ('he', 0.007632963683465833), ('amp', 0.007805913730806923), ('its', 0.008066320043994343), ('new', 0.008135735496607632), ('get', 0.008278886232064329), ('not', 0.008318510044630155), ('if', 0.00843841846037837), ('will', 0.008604085960838644), ('out', 0.008667954698637277), ('but', 0.00869532264799575), ('all', 0.0090364749894731), ('your', 0.009349026391088675), ('so', 0.010237736487290738), ('just', 0.010323023651121165), ('like', 0.010694494647072682), ('me', 0.011768727823261986), ('im', 0.012226895431212165)], 1: [('malaysia', 0.004796347499895391), ('about', 0.004797600537143191), ('us', 0.004834551942656482), ('legionnaires', 0.004859033162713991), ('into', 0.004875974793330163), ('atomic', 0.00488702337395309), ('debris', 0.004897345470195839), ('just', 0.004899957889305144), ('amp', 0.004917588774854167), ('buildings', 0.004966068739906975), ('bomber', 0.004974987425520361), ('accident', 0.004979601651490141), ('get', 0.004980932667329946), ('attack', 0.00502138037122073), ('been', 0.005060956136642035), ('pm', 0.005066501538038866), ('not', 0.005108410360881831), ('bomb', 0.005139099831906906), ('but', 0.00518329810776493), ('has', 0.005216613125654696), ('train', 0.00523521382313027), ('northern', 0.005288524657113604), ('its', 0.0054739003072255266), ('bombing', 0.005551658594410387), ('than', 0.005584971560838148), ('homes', 0.0055979482663016675), ('nuclear', 0.005640275316593122), ('like', 0.00572307550957845), ('an', 0.0061182717057983015), ('families', 0.006121769071226123), ('wildfire', 0.006165642493544975), ('crash', 0.006267754432834812), ('people', 0.0063364524025855615), ('killed', 0.006455104790438587), ('storm', 0.0064887028766204904), ('police', 0.006671713586546426), ('mh370', 0.006945716243712112), ('fires', 0.006947054533232225), ('who', 0.006979172022105587), ('over', 0.007100895195811914), ('hiroshima', 0.0072045154822942305), ('via', 0.007693072526902817), ('disaster', 0.0077231256890852844), ('suicide', 0.007843334641681908), ('were', 0.007887193207343645), ('more', 0.007916373169962914), ('california', 0.008459195286889678), ('news', 0.008767919943700964), ('after', 0.00978295003907594), ('fire', 0.011159381752491941)]})\n"
          ]
        }
      ]
    },
    {
      "cell_type": "code",
      "source": [
        "import matplotlib.pyplot as plt\n",
        "def plot_top_words_by_class(top_words_with_scores, n=50):\n",
        "    for label, words_scores in top_words_with_scores.items():\n",
        "        words, scores = zip(*words_scores[:n])  # Unzipping words and their scores\n",
        "\n",
        "        # Plot\n",
        "        plt.figure(figsize=(10, 8))\n",
        "        plt.barh(range(n), scores, align='center')\n",
        "        plt.yticks(range(n), words)\n",
        "        plt.gca().invert_yaxis()  # Invert y-axis to have the highest score on top\n",
        "        plt.xlabel('TF-IDF Score')\n",
        "        plt.title(f'Top {n} Words for Class {label}')\n",
        "        plt.show()\n",
        "\n",
        "plot_top_words_by_class(top_words, n=50)"
      ],
      "metadata": {
        "execution": {
          "iopub.status.busy": "2024-03-27T21:49:14.501782Z",
          "iopub.execute_input": "2024-03-27T21:49:14.502163Z",
          "iopub.status.idle": "2024-03-27T21:49:16.137057Z",
          "shell.execute_reply.started": "2024-03-27T21:49:14.502134Z",
          "shell.execute_reply": "2024-03-27T21:49:16.135778Z"
        },
        "trusted": true,
        "id": "Zsz4JhaD7FZr",
        "outputId": "02c348dc-4cdb-4e7c-868d-ba6897feb9d1",
        "colab": {
          "base_uri": "https://localhost:8080/",
          "height": 1000
        }
      },
      "execution_count": 60,
      "outputs": [
        {
          "output_type": "display_data",
          "data": {
            "text/plain": [
              "<Figure size 1000x800 with 1 Axes>"
            ],
            "image/png": "[encoded data removed]"
          },
          "metadata": {}
        },
        {
          "output_type": "display_data",
          "data": {
            "text/plain": [
              "<Figure size 1000x800 with 1 Axes>"
            ],
            "image/png": "[encoded data removed]"
          },
          "metadata": {}
        }
      ]
    },
    {
      "cell_type": "code",
      "source": [
        "top_words[1]"
      ],
      "metadata": {
        "execution": {
          "iopub.status.busy": "2024-03-27T17:07:17.724507Z",
          "iopub.execute_input": "2024-03-27T17:07:17.724934Z",
          "iopub.status.idle": "2024-03-27T17:07:17.735476Z",
          "shell.execute_reply.started": "2024-03-27T17:07:17.724902Z",
          "shell.execute_reply": "2024-03-27T17:07:17.734347Z"
        },
        "trusted": true,
        "id": "uydSzymG7FZr",
        "outputId": "ff17e835-4ab3-4a1f-c766-95c825dbf204",
        "colab": {
          "base_uri": "https://localhost:8080/"
        }
      },
      "execution_count": 61,
      "outputs": [
        {
          "output_type": "execute_result",
          "data": {
            "text/plain": [
              "[('malaysia', 0.004796347499895391),\n",
              " ('about', 0.004797600537143191),\n",
              " ('us', 0.004834551942656482),\n",
              " ('legionnaires', 0.004859033162713991),\n",
              " ('into', 0.004875974793330163),\n",
              " ('atomic', 0.00488702337395309),\n",
              " ('debris', 0.004897345470195839),\n",
              " ('just', 0.004899957889305144),\n",
              " ('amp', 0.004917588774854167),\n",
              " ('buildings', 0.004966068739906975),\n",
              " ('bomber', 0.004974987425520361),\n",
              " ('accident', 0.004979601651490141),\n",
              " ('get', 0.004980932667329946),\n",
              " ('attack', 0.00502138037122073),\n",
              " ('been', 0.005060956136642035),\n",
              " ('pm', 0.005066501538038866),\n",
              " ('not', 0.005108410360881831),\n",
              " ('bomb', 0.005139099831906906),\n",
              " ('but', 0.00518329810776493),\n",
              " ('has', 0.005216613125654696),\n",
              " ('train', 0.00523521382313027),\n",
              " ('northern', 0.005288524657113604),\n",
              " ('its', 0.0054739003072255266),\n",
              " ('bombing', 0.005551658594410387),\n",
              " ('than', 0.005584971560838148),\n",
              " ('homes', 0.0055979482663016675),\n",
              " ('nuclear', 0.005640275316593122),\n",
              " ('like', 0.00572307550957845),\n",
              " ('an', 0.0061182717057983015),\n",
              " ('families', 0.006121769071226123),\n",
              " ('wildfire', 0.006165642493544975),\n",
              " ('crash', 0.006267754432834812),\n",
              " ('people', 0.0063364524025855615),\n",
              " ('killed', 0.006455104790438587),\n",
              " ('storm', 0.0064887028766204904),\n",
              " ('police', 0.006671713586546426),\n",
              " ('mh370', 0.006945716243712112),\n",
              " ('fires', 0.006947054533232225),\n",
              " ('who', 0.006979172022105587),\n",
              " ('over', 0.007100895195811914),\n",
              " ('hiroshima', 0.0072045154822942305),\n",
              " ('via', 0.007693072526902817),\n",
              " ('disaster', 0.0077231256890852844),\n",
              " ('suicide', 0.007843334641681908),\n",
              " ('were', 0.007887193207343645),\n",
              " ('more', 0.007916373169962914),\n",
              " ('california', 0.008459195286889678),\n",
              " ('news', 0.008767919943700964),\n",
              " ('after', 0.00978295003907594),\n",
              " ('fire', 0.011159381752491941)]"
            ]
          },
          "metadata": {},
          "execution_count": 61
        }
      ]
    },
    {
      "cell_type": "code",
      "source": [
        "import tensorflow as tf\n",
        "from tensorflow.keras.models import Sequential\n",
        "from tensorflow.keras.layers import Embedding, GRU, Dense\n",
        "from tensorflow.keras.callbacks import EarlyStopping\n",
        "\n",
        "# Assuming you have your preprocessed data ready\n",
        "# X_train, X_val, y_train, y_val = your_data_split()\n",
        "\n",
        "# Parameters (you may need to adjust these based on your dataset)\n",
        "vocab_size = 3000  # Adjust based on your vocabulary size\n",
        "embedding_dim = 8  # Size of the embedding vectors; smaller for fewer resources\n",
        "max_length = 100    # Maximum length of input sequences\n",
        "trunc_type = 'post' # Truncate longer sequences from the end\n",
        "padding_type = 'post' # Pad sequences to ensure uniform length\n",
        "\n",
        "# Define the model\n",
        "model = Sequential([\n",
        "    Embedding(vocab_size, embedding_dim),\n",
        "    GRU(8),  # GRU layer with 32 units; adjust as needed\n",
        "    Dense(8, activation='relu'),  # Additional dense layer for more complex patterns\n",
        "    Dense(1, activation='sigmoid')  # Output layer for binary classification\n",
        "])\n",
        "\n",
        "model.compile(loss='binary_crossentropy', optimizer='adam', metrics=['accuracy'])\n",
        "\n",
        "# Summary of the model\n",
        "model.summary()\n",
        "\n",
        "# Early stopping to prevent overfitting\n",
        "\n",
        "# Train the model\n",
        "history = model.fit(X.toarray(), y_train, epochs=1, batch_size=64, validation_data=(X_test.toarray(), y_test))"
      ],
      "metadata": {
        "execution": {
          "iopub.status.busy": "2024-03-27T20:02:03.505424Z",
          "iopub.execute_input": "2024-03-27T20:02:03.505837Z",
          "iopub.status.idle": "2024-03-27T20:40:31.163278Z",
          "shell.execute_reply.started": "2024-03-27T20:02:03.505808Z",
          "shell.execute_reply": "2024-03-27T20:40:31.162032Z"
        },
        "trusted": true,
        "id": "tcx4wljH7FZr",
        "outputId": "1ac94d9c-32fd-4360-ca69-708825f41001",
        "colab": {
          "base_uri": "https://localhost:8080/"
        }
      },
      "execution_count": null,
      "outputs": [
        {
          "output_type": "stream",
          "name": "stdout",
          "text": [
            "Model: \"sequential_4\"\n",
            "_________________________________________________________________\n",
            " Layer (type)                Output Shape              Param #   \n",
            "=================================================================\n",
            " embedding_4 (Embedding)     (None, None, 8)           24000     \n",
            "                                                                 \n",
            " gru_4 (GRU)                 (None, 8)                 432       \n",
            "                                                                 \n",
            " dense_8 (Dense)             (None, 8)                 72        \n",
            "                                                                 \n",
            " dense_9 (Dense)             (None, 1)                 9         \n",
            "                                                                 \n",
            "=================================================================\n",
            "Total params: 24513 (95.75 KB)\n",
            "Trainable params: 24513 (95.75 KB)\n",
            "Non-trainable params: 0 (0.00 Byte)\n",
            "_________________________________________________________________\n",
            " 7/94 [=>............................] - ETA: 44:11 - loss: 0.6930 - accuracy: 0.5201"
          ]
        }
      ]
    },
    {
      "cell_type": "code",
      "source": [
        "df_train.columns"
      ],
      "metadata": {
        "execution": {
          "iopub.status.busy": "2024-03-27T20:00:35.610187Z",
          "iopub.execute_input": "2024-03-27T20:00:35.610616Z",
          "iopub.status.idle": "2024-03-27T20:00:35.618348Z",
          "shell.execute_reply.started": "2024-03-27T20:00:35.61058Z",
          "shell.execute_reply": "2024-03-27T20:00:35.617268Z"
        },
        "trusted": true,
        "id": "KlWG3Fk37FZs",
        "outputId": "53e6bf94-be5c-4453-be57-d4669170a52b"
      },
      "execution_count": null,
      "outputs": [
        {
          "execution_count": 26,
          "output_type": "execute_result",
          "data": {
            "text/plain": "Index(['id', 'keyword', 'location', 'text'], dtype='object')"
          },
          "metadata": {}
        }
      ]
    },
    {
      "cell_type": "code",
      "source": [
        "model.save(\"model.keras\")"
      ],
      "metadata": {
        "execution": {
          "iopub.status.busy": "2024-03-27T21:52:33.234835Z",
          "iopub.execute_input": "2024-03-27T21:52:33.235278Z",
          "iopub.status.idle": "2024-03-27T21:52:33.272632Z",
          "shell.execute_reply.started": "2024-03-27T21:52:33.23524Z",
          "shell.execute_reply": "2024-03-27T21:52:33.270448Z"
        },
        "trusted": true,
        "id": "wC6e4gnK7FZs",
        "outputId": "58cde027-1279-4fc6-ae9c-9d35949d7280"
      },
      "execution_count": null,
      "outputs": [
        {
          "traceback": [
            "\u001b[0;31m---------------------------------------------------------------------------\u001b[0m",
            "\u001b[0;31mNameError\u001b[0m                                 Traceback (most recent call last)",
            "Cell \u001b[0;32mIn[23], line 1\u001b[0m\n\u001b[0;32m----> 1\u001b[0m \u001b[43mmodel\u001b[49m\u001b[38;5;241m.\u001b[39msave(\u001b[38;5;124m\"\u001b[39m\u001b[38;5;124mmodel.keras\u001b[39m\u001b[38;5;124m\"\u001b[39m)\n",
            "\u001b[0;31mNameError\u001b[0m: name 'model' is not defined"
          ],
          "ename": "NameError",
          "evalue": "name 'model' is not defined",
          "output_type": "error"
        }
      ]
    },
    {
      "cell_type": "code",
      "source": [
        "from tensorflow.keras.models import load_model\n",
        "from tensorflow.keras.models import Sequential\n",
        "from tensorflow.keras.layers import Embedding, GRU, Dense\n",
        "from tensorflow.keras.callbacks import EarlyStopping\n",
        "import tensorflow as tf\n",
        "\n",
        "# Parameters (you may need to adjust these based on your dataset)\n",
        "vocab_size = 10000  # Adjust based on your vocabulary size\n",
        "embedding_dim = 8  # Size of the embedding vectors; smaller for fewer resources\n",
        "max_length = 100    # Maximum length of input sequences\n",
        "trunc_type = 'post' # Truncate longer sequences from the end\n",
        "padding_type = 'post' # Pad sequences to ensure uniform length\n",
        "\n",
        "\n",
        "model = Sequential([\n",
        "    Embedding(vocab_size, embedding_dim, input_length=max_length),\n",
        "    GRU(16),\n",
        "    Dense(16, activation='relu'),\n",
        "    Dense(1, activation='sigmoid')\n",
        "])\n",
        "\n",
        "# Now, load the weights (assuming you have them saved):\n",
        "model.load_weights('/kaggle/input/nlp-getting-started/model.keras')\n",
        "#loaded_model = tf.keras.models.load_model('/kaggle/input/nlp-getting-started/model (1).keras')"
      ],
      "metadata": {
        "execution": {
          "iopub.status.busy": "2024-03-27T21:55:54.383Z",
          "iopub.execute_input": "2024-03-27T21:55:54.384738Z",
          "iopub.status.idle": "2024-03-27T21:55:54.460377Z",
          "shell.execute_reply.started": "2024-03-27T21:55:54.384685Z",
          "shell.execute_reply": "2024-03-27T21:55:54.458129Z"
        },
        "trusted": true,
        "id": "RFiL-s-47FZs"
      },
      "execution_count": 40,
      "outputs": []
    },
    {
      "cell_type": "code",
      "source": [
        "import pandas as pd\n",
        "from scipy.sparse import csr_matrix\n",
        "\n",
        "# Assuming 'df_test_sample' is your DataFrame containing the test data\n",
        "test_texts = df_test_sample['text'].tolist()\n",
        "\n",
        "# Vectorize the test data\n",
        "X_test_sparse = vectorizer.transform(test_texts)  # This returns a sparse matrix\n",
        "\n",
        "# If your model requires dense input, you can convert it like this:\n",
        "X_test_dense = X_test_sparse.toarray()  # Be cautious with memory usage here\n"
      ],
      "metadata": {
        "execution": {
          "iopub.status.busy": "2024-03-27T21:54:24.721388Z",
          "iopub.status.idle": "2024-03-27T21:54:24.722142Z",
          "shell.execute_reply.started": "2024-03-27T21:54:24.721895Z",
          "shell.execute_reply": "2024-03-27T21:54:24.721918Z"
        },
        "trusted": true,
        "id": "QcobjZyV7FZs"
      },
      "execution_count": 41,
      "outputs": []
    },
    {
      "cell_type": "code",
      "source": [
        "predictions = model.predict(X_test_dense)"
      ],
      "metadata": {
        "execution": {
          "iopub.status.busy": "2024-03-27T21:54:24.723702Z",
          "iopub.status.idle": "2024-03-27T21:54:24.724232Z",
          "shell.execute_reply.started": "2024-03-27T21:54:24.724001Z",
          "shell.execute_reply": "2024-03-27T21:54:24.724021Z"
        },
        "trusted": true,
        "id": "1z60QLwL7FZs",
        "outputId": "a7c2ca34-d4d4-4371-d0c6-49cfc6ab8bba",
        "colab": {
          "base_uri": "https://localhost:8080/",
          "height": 547
        }
      },
      "execution_count": 42,
      "outputs": [
        {
          "output_type": "error",
          "ename": "ValueError",
          "evalue": "in user code:\n\n    File \"/usr/local/lib/python3.10/dist-packages/keras/src/engine/training.py\", line 2440, in predict_function  *\n        return step_function(self, iterator)\n    File \"/usr/local/lib/python3.10/dist-packages/keras/src/engine/training.py\", line 2425, in step_function  **\n        outputs = model.distribute_strategy.run(run_step, args=(data,))\n    File \"/usr/local/lib/python3.10/dist-packages/keras/src/engine/training.py\", line 2413, in run_step  **\n        outputs = model.predict_step(data)\n    File \"/usr/local/lib/python3.10/dist-packages/keras/src/engine/training.py\", line 2381, in predict_step\n        return self(x, training=False)\n    File \"/usr/local/lib/python3.10/dist-packages/keras/src/utils/traceback_utils.py\", line 70, in error_handler\n        raise e.with_traceback(filtered_tb) from None\n    File \"/usr/local/lib/python3.10/dist-packages/keras/src/engine/input_spec.py\", line 298, in assert_input_compatibility\n        raise ValueError(\n\n    ValueError: Input 0 of layer \"sequential_1\" is incompatible with the layer: expected shape=(None, 100), found shape=(None, 13776)\n",
          "traceback": [
            "\u001b[0;31m---------------------------------------------------------------------------\u001b[0m",
            "\u001b[0;31mValueError\u001b[0m                                Traceback (most recent call last)",
            "\u001b[0;32m<ipython-input-42-7bfe8b306e15>\u001b[0m in \u001b[0;36m<cell line: 1>\u001b[0;34m()\u001b[0m\n\u001b[0;32m----> 1\u001b[0;31m \u001b[0mpredictions\u001b[0m \u001b[0;34m=\u001b[0m \u001b[0mmodel\u001b[0m\u001b[0;34m.\u001b[0m\u001b[0mpredict\u001b[0m\u001b[0;34m(\u001b[0m\u001b[0mX_test_dense\u001b[0m\u001b[0;34m)\u001b[0m\u001b[0;34m\u001b[0m\u001b[0;34m\u001b[0m\u001b[0m\n\u001b[0m",
            "\u001b[0;32m/usr/local/lib/python3.10/dist-packages/keras/src/utils/traceback_utils.py\u001b[0m in \u001b[0;36merror_handler\u001b[0;34m(*args, **kwargs)\u001b[0m\n\u001b[1;32m     68\u001b[0m             \u001b[0;31m# To get the full stack trace, call:\u001b[0m\u001b[0;34m\u001b[0m\u001b[0;34m\u001b[0m\u001b[0m\n\u001b[1;32m     69\u001b[0m             \u001b[0;31m# `tf.debugging.disable_traceback_filtering()`\u001b[0m\u001b[0;34m\u001b[0m\u001b[0;34m\u001b[0m\u001b[0m\n\u001b[0;32m---> 70\u001b[0;31m             \u001b[0;32mraise\u001b[0m \u001b[0me\u001b[0m\u001b[0;34m.\u001b[0m\u001b[0mwith_traceback\u001b[0m\u001b[0;34m(\u001b[0m\u001b[0mfiltered_tb\u001b[0m\u001b[0;34m)\u001b[0m \u001b[0;32mfrom\u001b[0m \u001b[0;32mNone\u001b[0m\u001b[0;34m\u001b[0m\u001b[0;34m\u001b[0m\u001b[0m\n\u001b[0m\u001b[1;32m     71\u001b[0m         \u001b[0;32mfinally\u001b[0m\u001b[0;34m:\u001b[0m\u001b[0;34m\u001b[0m\u001b[0;34m\u001b[0m\u001b[0m\n\u001b[1;32m     72\u001b[0m             \u001b[0;32mdel\u001b[0m \u001b[0mfiltered_tb\u001b[0m\u001b[0;34m\u001b[0m\u001b[0;34m\u001b[0m\u001b[0m\n",
            "\u001b[0;32m/usr/local/lib/python3.10/dist-packages/keras/src/engine/training.py\u001b[0m in \u001b[0;36mtf__predict_function\u001b[0;34m(iterator)\u001b[0m\n\u001b[1;32m     13\u001b[0m                 \u001b[0;32mtry\u001b[0m\u001b[0;34m:\u001b[0m\u001b[0;34m\u001b[0m\u001b[0;34m\u001b[0m\u001b[0m\n\u001b[1;32m     14\u001b[0m                     \u001b[0mdo_return\u001b[0m \u001b[0;34m=\u001b[0m \u001b[0;32mTrue\u001b[0m\u001b[0;34m\u001b[0m\u001b[0;34m\u001b[0m\u001b[0m\n\u001b[0;32m---> 15\u001b[0;31m                     \u001b[0mretval_\u001b[0m \u001b[0;34m=\u001b[0m \u001b[0mag__\u001b[0m\u001b[0;34m.\u001b[0m\u001b[0mconverted_call\u001b[0m\u001b[0;34m(\u001b[0m\u001b[0mag__\u001b[0m\u001b[0;34m.\u001b[0m\u001b[0mld\u001b[0m\u001b[0;34m(\u001b[0m\u001b[0mstep_function\u001b[0m\u001b[0;34m)\u001b[0m\u001b[0;34m,\u001b[0m \u001b[0;34m(\u001b[0m\u001b[0mag__\u001b[0m\u001b[0;34m.\u001b[0m\u001b[0mld\u001b[0m\u001b[0;34m(\u001b[0m\u001b[0mself\u001b[0m\u001b[0;34m)\u001b[0m\u001b[0;34m,\u001b[0m \u001b[0mag__\u001b[0m\u001b[0;34m.\u001b[0m\u001b[0mld\u001b[0m\u001b[0;34m(\u001b[0m\u001b[0miterator\u001b[0m\u001b[0;34m)\u001b[0m\u001b[0;34m)\u001b[0m\u001b[0;34m,\u001b[0m \u001b[0;32mNone\u001b[0m\u001b[0;34m,\u001b[0m \u001b[0mfscope\u001b[0m\u001b[0;34m)\u001b[0m\u001b[0;34m\u001b[0m\u001b[0;34m\u001b[0m\u001b[0m\n\u001b[0m\u001b[1;32m     16\u001b[0m                 \u001b[0;32mexcept\u001b[0m\u001b[0;34m:\u001b[0m\u001b[0;34m\u001b[0m\u001b[0;34m\u001b[0m\u001b[0m\n\u001b[1;32m     17\u001b[0m                     \u001b[0mdo_return\u001b[0m \u001b[0;34m=\u001b[0m \u001b[0;32mFalse\u001b[0m\u001b[0;34m\u001b[0m\u001b[0;34m\u001b[0m\u001b[0m\n",
            "\u001b[0;31mValueError\u001b[0m: in user code:\n\n    File \"/usr/local/lib/python3.10/dist-packages/keras/src/engine/training.py\", line 2440, in predict_function  *\n        return step_function(self, iterator)\n    File \"/usr/local/lib/python3.10/dist-packages/keras/src/engine/training.py\", line 2425, in step_function  **\n        outputs = model.distribute_strategy.run(run_step, args=(data,))\n    File \"/usr/local/lib/python3.10/dist-packages/keras/src/engine/training.py\", line 2413, in run_step  **\n        outputs = model.predict_step(data)\n    File \"/usr/local/lib/python3.10/dist-packages/keras/src/engine/training.py\", line 2381, in predict_step\n        return self(x, training=False)\n    File \"/usr/local/lib/python3.10/dist-packages/keras/src/utils/traceback_utils.py\", line 70, in error_handler\n        raise e.with_traceback(filtered_tb) from None\n    File \"/usr/local/lib/python3.10/dist-packages/keras/src/engine/input_spec.py\", line 298, in assert_input_compatibility\n        raise ValueError(\n\n    ValueError: Input 0 of layer \"sequential_1\" is incompatible with the layer: expected shape=(None, 100), found shape=(None, 13776)\n"
          ]
        }
      ]
    },
    {
      "cell_type": "code",
      "source": [
        "predicted_labels = (predictions.flatten() > 0.5).astype(int)"
      ],
      "metadata": {
        "execution": {
          "iopub.status.busy": "2024-03-27T21:54:24.726746Z",
          "iopub.status.idle": "2024-03-27T21:54:24.728717Z",
          "shell.execute_reply.started": "2024-03-27T21:54:24.728457Z",
          "shell.execute_reply": "2024-03-27T21:54:24.728484Z"
        },
        "trusted": true,
        "id": "uSq7EJUn7FZs"
      },
      "execution_count": null,
      "outputs": []
    },
    {
      "cell_type": "code",
      "source": [
        "sample_submission = pd.read_csv('sample_submission.csv')\n",
        "\n",
        "# Ensure the predicted_labels align with the sample_submission format\n",
        "sample_submission['target'] = predicted_labels  # 'target' should be replaced with the actual column name for predictions\n",
        "\n",
        "# Save your predictions to a CSV file\n",
        "sample_submission.to_csv('my_submission.csv', index=False)"
      ],
      "metadata": {
        "execution": {
          "iopub.status.busy": "2024-03-27T21:54:24.732827Z",
          "iopub.status.idle": "2024-03-27T21:54:24.733861Z",
          "shell.execute_reply.started": "2024-03-27T21:54:24.733602Z",
          "shell.execute_reply": "2024-03-27T21:54:24.733632Z"
        },
        "trusted": true,
        "id": "JNDBEJEQ7FZs"
      },
      "execution_count": null,
      "outputs": []
    }
  ]
}